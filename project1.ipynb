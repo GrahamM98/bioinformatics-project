{
 "cells": [
  {
   "cell_type": "markdown",
   "metadata": {},
   "source": [
    "<h1>Bioinformatics Final Project</h1>\n",
    "*disclaimer* this first cell which sets up the data will take a couple hours to finish"
   ]
  },
  {
   "cell_type": "code",
   "execution_count": 1,
   "metadata": {
    "scrolled": false
   },
   "outputs": [],
   "source": [
    "# Imports for project\n",
    "from io import BytesIO\n",
    "import shutil\n",
    "from ftplib import FTP\n",
    "import requests\n",
    "import os\n",
    "import pandas as pd\n",
    "import numpy as np\n",
    "from matplotlib import pyplot as plt\n",
    "import math\n",
    "import time\n",
    "from IPython.display import clear_output\n",
    "\n",
    "# Controller for project\n",
    "\n",
    "# Global Variables\n",
    "helixPop = {'Right-handed alpha':0, 'Right-handed omega':0, 'Right-handed pi':0 ,\n",
    "            'Right-handed gamma':0, 'Right-handed 3 - 10':0, 'Left-handed alpha':0, \n",
    "            'Left-handed omega':0, 'Left-hended gamma':0, '2 - 7 ribbon/helix':0, 'Polyproline':0}\n",
    "\n",
    "# get list of protein IDs to retrieve\n",
    "with open('cullpdb_pc30_res3.0_R1.0_d191017_chains18877.gz') as fin: # get the list of ID's from the file\n",
    "    IDs = []\n",
    "    for line in fin:\n",
    "        IDs += [line.split()[0].lower()]\n",
    "IDs = IDs[1:] # remove file header\n",
    "\n",
    "def getDF(idIn):\n",
    "    #import gzip### set up retreival of pdb file using input code\n",
    "    #ftp = FTP('ftp.wwpdb.org')\n",
    "    #ftp.login('username', 'password')\n",
    "    #flo = BytesIO()\n",
    "    #\n",
    "    pdbID = idIn[0:4]\n",
    "    chain = idIn[4]\n",
    "    #\n",
    "    #path = '/pub/pdb/data/structures/divided/pdb/'\n",
    "    #\n",
    "    #ftp.cwd(path + pdbID[1:3])\n",
    "    ##print('Retrieving pdb file for', pdbID)\n",
    "    #ftp.retrbinary('RETR pdb' + pdbID + '.ent.gz', flo.write)\n",
    "    ##print('File found')\n",
    "    #flo.seek(0)\n",
    "    #\n",
    "    ##print('Decompressing file')\n",
    "    #with open(pdbID + '.pdb', 'wb') as fout, gzip.GzipFile(fileobj = flo) as gzip:\n",
    "    #    shutil.copyfileobj(gzip, fout)\n",
    "    ##print('Done')\n",
    "    \n",
    "    seq = \"\"\n",
    "    helix = []\n",
    "    sheet = []\n",
    "    atom = []\n",
    "    \n",
    "    # extract data for the provided chain using html request\n",
    "    connected = False\n",
    "    while not connected: \n",
    "        try:\n",
    "            fin = requests.get('https://files.rcsb.org/view/'+ pdbID +'.pdb', stream=True)\n",
    "            connected = True\n",
    "        except:\n",
    "            print('Problem encountered connecting to server. Retrying...')\n",
    "    #print(fin.text)\n",
    "    for line in fin.iter_lines():\n",
    "        line = line.decode('utf-8')\n",
    "        #print(line)\n",
    "        if line[0:6] == 'SEQRES' and line[11].lower() == chain:\n",
    "            seq += line[19:]\n",
    "        if line[0:6] == 'HELIX ' and line[19].lower() == chain:\n",
    "            helix.append(line.split())\n",
    "        if line[0:6] == 'SHEET ' and line[21].lower() == chain:\n",
    "            sheet.append(line.split())\n",
    "        if line[0:6] == 'ATOM  ' and line[21].lower() == chain:\n",
    "            atom.append(line.split())\n",
    "    seq = seq.split()\n",
    "    \n",
    "    \n",
    "    \n",
    "    #Remove the pdb file when finished\n",
    "    #print('Removing pdb file for', pdbID)\n",
    "    #os.remove(pdbID+'.pdb')\n",
    "    #print('Done')\n",
    "    \n",
    "    if seq == []:\n",
    "        print('Chain', chain, 'does not exist.  Please try again with a different chain.')\n",
    "        return []\n",
    "    else:\n",
    "        # store info in dataframes, and clean dataframes to contain only desired data\n",
    "        #print('Creating DataFrames')\n",
    "        if helix:\n",
    "            try:\n",
    "                helix = pd.DataFrame(helix)[[3,5,6,8,9,10]]\n",
    "                helix.columns = ['initRes', 'initSeq', 'termRes', 'termSeq', 'type', 'length']\n",
    "            except:\n",
    "                helix = pd.DataFrame(helix)[[2,4,5,7,8,9]]\n",
    "                helix.columns = ['initRes', 'initSeq', 'termRes', 'termSeq', 'type', 'length']\n",
    "        else: helix = pd.DataFrame()\n",
    "        sheet = pd.DataFrame(sheet)\n",
    "        atom = pd.DataFrame(atom)[[2,3,5,6,7,8]]\n",
    "        atom.columns = ['name', 'res', 'seqNum', 'x', 'y', 'z']\n",
    "        #print('Done')\n",
    "    return [seq, helix, sheet, atom]\n",
    "\n",
    "\n",
    "\n",
    "def loadData1():\n",
    "    proteinData = {}\n",
    "    start = time.time()\n",
    "    i = 0\n",
    "    for ID in IDs[:int(len(IDs)/2)]:\n",
    "        # do analysis here\n",
    "        try:\n",
    "            data = getDF(ID)\n",
    "        except:\n",
    "            print('Error in retrieving data')\n",
    "        proteinData[ID] = data\n",
    "        if i % int((len(IDs)/2)/10) == 0:\n",
    "            clear_output(wait=True)\n",
    "            currTime = time.time()-start\n",
    "            print(round(i / int(len(IDs)/2), 2)*100, '% done')\n",
    "            print('Time elapsed:',int((currTime/60)/60), 'hours', int(currTime/60)%60, 'minutes', int(currTime%60), 'seconds')\n",
    "            print(i, 'Protiens analyzed')\n",
    "            print()\n",
    "        i += 1\n",
    "    clear_output(wait=True)\n",
    "    currTime = time.time()-start\n",
    "    print('Total time elapsed:',int((currTime/60)/60), 'hours', int(currTime/60)%60, 'minutes', int(currTime%60), 'seconds')\n",
    "    return proteinData\n",
    "                  \n",
    "def loadData2():\n",
    "    proteinData = {}\n",
    "    start = time.time()\n",
    "    i = 0\n",
    "    for ID in IDs[int(len(IDs)/2):]:\n",
    "        # do analysis here\n",
    "        try:\n",
    "            data = getDF(ID)\n",
    "        except:\n",
    "            print('Error in retrieving data')\n",
    "        proteinData[ID] = data\n",
    "        if i % int(int(len(IDs)/2)/10) == 0:\n",
    "            clear_output(wait=True)\n",
    "            currTime = time.time()-start\n",
    "            print(round(i / int(len(IDs)/2), 2)*100, '% done')\n",
    "            print('Time elapsed:',int((currTime/60)/60), 'hours', int(currTime/60)%60, 'minutes', int(currTime%60), 'seconds')\n",
    "            print(i, 'Protiens analyzed')\n",
    "            print()\n",
    "        i += 1\n",
    "    clear_output(wait=True)\n",
    "    currTime = time.time()-start\n",
    "    print('Total time elapsed:',int((currTime/60)/60), 'hours', int(currTime/60)%60, 'minutes', int(currTime%60), 'seconds')\n",
    "    return proteinData"
   ]
  },
  {
   "cell_type": "markdown",
   "metadata": {},
   "source": [
    "<h1>Question 1</h1>\n",
    "    Find the popularity of different kind of helices: read the data set and analyze it to find the\n",
    "popularity of each type of helices"
   ]
  },
  {
   "cell_type": "code",
   "execution_count": 2,
   "metadata": {},
   "outputs": [],
   "source": [
    "helixPop = {'Right-handed alpha':0, 'Right-handed omega':0, 'Right-handed pi':0 ,\n",
    "            'Right-handed gamma':0, 'Right-handed 3 - 10':0, 'Left-handed alpha':0, \n",
    "            'Left-handed omega':0, 'Left-hended gamma':0, '2 - 7 ribbon/helix':0, 'Polyproline':0}\n",
    "\n",
    "def question1(helixType):\n",
    "    for helix in helixType:\n",
    "        try: \n",
    "            helix = int(helix)\n",
    "        except:\n",
    "            helix = int(helix[0])\n",
    "        if helix == 1:\n",
    "            helixPop['Right-handed alpha'] += 1\n",
    "        elif helix == 2:\n",
    "            helixPop['Right-handed omega'] += 1\n",
    "        elif helix == 3:\n",
    "            helixPop['Right-handed pi'] += 1\n",
    "        elif helix == 4:\n",
    "            helixPop['Right-handed gamma'] += 1\n",
    "        elif helix == 5:\n",
    "            helixPop['Right-handed 3 - 10'] += 1\n",
    "        elif helix == 6:\n",
    "            helixPop['Left-handed alpha'] += 1\n",
    "        elif helix == 7:\n",
    "            helixPop['Left-handed omega'] += 1\n",
    "        elif helix == 8:\n",
    "            helixPop['Left-hended gamma'] += 1\n",
    "        elif helix == 9:\n",
    "            helixPop['2 - 7 ribbon/helix'] += 1\n",
    "        elif helix == 10:\n",
    "            helixPop['Polyproline'] += 1"
   ]
  },
  {
   "cell_type": "markdown",
   "metadata": {},
   "source": [
    "<h1>Question 2</h1>\n",
    "Analyze the amino acids that prefer to form/be part of helices. Does an AA prefer to\n",
    "form/be part of specific type of helices?"
   ]
  },
  {
   "cell_type": "code",
   "execution_count": null,
   "metadata": {},
   "outputs": [],
   "source": []
  },
  {
   "cell_type": "markdown",
   "metadata": {},
   "source": [
    "<h1>Run questions</h1>"
   ]
  },
  {
   "cell_type": "code",
   "execution_count": 3,
   "metadata": {
    "scrolled": false
   },
   "outputs": [
    {
     "name": "stdout",
     "output_type": "stream",
     "text": [
      "given protein has no helix\n"
     ]
    }
   ],
   "source": [
    "data = loadData1()\n",
    "\n",
    "# run analysis for first half of data\n",
    "\n",
    "for protein in data:\n",
    "    try:\n",
    "        question1(data[protein][1]['type'])\n",
    "    except:\n",
    "        clear_output(wait=True)\n",
    "        print('given protein has no helix')\n",
    "\n",
    "%reset_selective -f data\n",
    "        \n",
    "data = loadData2()\n",
    "\n",
    "# run analysis for second half of data\n",
    "\n",
    "for protein in data:\n",
    "    try:\n",
    "        question1(data[protein][1]['type'])\n",
    "    except:\n",
    "        clear_output(wait=True)\n",
    "        print('given protein has no helix')"
   ]
  },
  {
   "cell_type": "markdown",
   "metadata": {},
   "source": [
    "<h1>Question 1 Output</h1>"
   ]
  },
  {
   "cell_type": "code",
   "execution_count": 23,
   "metadata": {},
   "outputs": [
    {
     "data": {
      "image/png": "[encoded data removed]",
      "text/plain": [
       "<Figure size 432x288 with 1 Axes>"
      ]
     },
     "metadata": {
      "needs_background": "light"
     },
     "output_type": "display_data"
    }
   ],
   "source": [
    "q1Data = {}\n",
    "for entry in helixPop:\n",
    "    if helixPop[entry] > 0:\n",
    "        q1Data[entry] = helixPop[entry]\n",
    "\n",
    "plt.bar(q1Data.keys(), q1Data.values())\n",
    "plt.xticks(rotation=-45)\n",
    "plt.show()"
   ]
  }
 ],
 "metadata": {
  "kernelspec": {
   "display_name": "Python 3",
   "language": "python",
   "name": "python3"
  },
  "language_info": {
   "codemirror_mode": {
    "name": "ipython",
    "version": 3
   },
   "file_extension": ".py",
   "mimetype": "text/x-python",
   "name": "python",
   "nbconvert_exporter": "python",
   "pygments_lexer": "ipython3",
   "version": "3.6.8"
  }
 },
 "nbformat": 4,
 "nbformat_minor": 2
}
