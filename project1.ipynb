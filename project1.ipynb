{
 "cells": [
  {
   "cell_type": "markdown",
   "metadata": {},
   "source": [
    "<h1>Bioinformatics Final Project</h1>\n",
    "*disclaimer* cleaning and organizing the data will take a couple hours to finish"
   ]
  },
  {
   "cell_type": "code",
   "execution_count": 1,
   "metadata": {
    "scrolled": false
   },
   "outputs": [],
   "source": [
    "import requests\n",
    "import pandas as pd\n",
    "import numpy as np\n",
    "from matplotlib import pyplot as plt\n",
    "import math\n",
    "import time\n",
    "from IPython.display import clear_output\n",
    "import random as r\n",
    "\n",
    "# Controller for project\n",
    "\n",
    "# Global Variables\n",
    "helixPop = {'Right-handed alpha':0, 'Right-handed omega':0, 'Right-handed pi':0 ,\n",
    "            'Right-handed gamma':0, 'Right-handed 3 - 10':0, 'Left-handed alpha':0, \n",
    "            'Left-handed omega':0, 'Left-hended gamma':0, '2 - 7 ribbon/helix':0, 'Polyproline':0}\n",
    "aminoAcids = {'ALA': {'Helix': 0, 'Sheet': 0},'ARG': {'Helix': 0, 'Sheet': 0},\n",
    "              'ASN': {'Helix': 0, 'Sheet': 0},'ASP': {'Helix': 0, 'Sheet': 0},\n",
    "              'CYS': {'Helix': 0, 'Sheet': 0},'GLU': {'Helix': 0, 'Sheet': 0},\n",
    "              'GLN': {'Helix': 0, 'Sheet': 0},'GLY': {'Helix': 0, 'Sheet': 0},\n",
    "              'HIS': {'Helix': 0, 'Sheet': 0},'ILE': {'Helix': 0, 'Sheet': 0},\n",
    "              'LEU': {'Helix': 0, 'Sheet': 0},'LYS': {'Helix': 0, 'Sheet': 0},\n",
    "              'MET': {'Helix': 0, 'Sheet': 0},'PHE': {'Helix': 0, 'Sheet': 0},\n",
    "              'PRO': {'Helix': 0, 'Sheet': 0},'SER': {'Helix': 0, 'Sheet': 0},\n",
    "              'THR': {'Helix': 0, 'Sheet': 0},'TRP': {'Helix': 0, 'Sheet': 0},\n",
    "              'TYR': {'Helix': 0, 'Sheet': 0},'VAL': {'Helix': 0, 'Sheet': 0}}\n",
    "\n",
    "#Descripton of data\n",
    "'''\n",
    "Data is a pandas dataframe with all the proteins as keys which maps to important information for that \n",
    "protein taken from the pdb file.\n",
    "data[protein][0] = Sequence Residue\n",
    "data[protein][1] = Helices\n",
    "data[protein][2] = Sheets\n",
    "data[protein][3] = Atoms\n",
    "\n",
    "'''\n",
    "\n",
    "\n",
    "# get list of protein IDs to retrieve\n",
    "with open('cullpdb_pc30_res3.0_R1.0_d191017_chains18877.gz') as fin: # get the list of ID's from the file\n",
    "    IDs = []\n",
    "    for line in fin:\n",
    "        IDs += [line.split()[0].lower()]\n",
    "IDs = IDs[1:] # remove file header\n",
    "\n",
    "def getDF(idIn):\n",
    "    pdbID = idIn[0:4]\n",
    "    chain = idIn[4]\n",
    "    print('reading', pdbID)\n",
    "    \n",
    "    seq = \"\"\n",
    "    helix = []\n",
    "    sheet = []\n",
    "    atom = []\n",
    "    \n",
    "    # extract data for the provided chain using html request\n",
    "    connected = False\n",
    "    while not connected: \n",
    "        try:\n",
    "            fin = requests.get('https://files.rcsb.org/view/'+ pdbID +'.pdb', stream=True)\n",
    "            connected = True\n",
    "        except:\n",
    "            print('Problem encountered connecting to server. Retrying...')\n",
    "    #print(fin.text)\n",
    "    for line in fin.iter_lines():\n",
    "        line = line.decode('utf-8')\n",
    "        #print(line)\n",
    "        if line[0:6] == 'SEQRES' and line[11].lower() == chain:\n",
    "            seq += line[19:]\n",
    "        if line[0:6] == 'HELIX ' and line[19].lower() == chain:\n",
    "            helix.append(line.split())\n",
    "        if line[0:6] == 'SHEET ' and line[21].lower() == chain:\n",
    "            sheet.append(line.split())\n",
    "        if line[0:6] == 'ATOM  ' and line[21].lower() == chain:\n",
    "            atom.append([line[0:6], line[6:11], line[13:15], line[16], line[17:20],\n",
    "                         line[21], line[22:26], line[26], line[30:38], line[38:46], line[47:54]])\n",
    "        if line[0:6] == 'HETATM' and line[21].lower() == chain:\n",
    "            atom.append([line[0:6], line[6:11], line[13:15], line[16], line[17:20],\n",
    "                         line[21], line[22:26], line[26], line[30:38], line[38:46], line[47:54]])\n",
    "    seq = seq.split()\n",
    "    \n",
    "    if seq == []:\n",
    "        print('Chain', chain, 'does not exist in protien', pdbID,'or pdb file does not exist. Trying with new ID')\n",
    "        return []\n",
    "    else:\n",
    "        # store info in dataframes, and clean dataframes to contain only desired data\n",
    "        #print('Creating DataFrames for', pdbID)\n",
    "        if helix:\n",
    "            try:\n",
    "                helix = pd.DataFrame(helix)[[3,5,6,8,9,10]]\n",
    "                helix.columns = ['initRes', 'initSeq', 'termRes', 'termSeq', 'type', 'length']\n",
    "            except:\n",
    "                helix = pd.DataFrame(helix)[[2,4,5,7,8,9]]\n",
    "                helix.columns = ['initRes', 'initSeq', 'termRes', 'termSeq', 'type', 'length']\n",
    "        else: helix = pd.DataFrame()\n",
    "        sheet = pd.DataFrame(sheet)\n",
    "        atom = pd.DataFrame(atom)[[2,4,6,8,9,10]]\n",
    "        atom.columns = ['name', 'res', 'seqNum', 'x', 'y', 'z']\n",
    "        #print('Done')\n",
    "        #print()\n",
    "    return [seq, helix, sheet, atom]\n",
    "\n",
    "def loadDataSRS():\n",
    "    print('Starting data collection ...')\n",
    "    proteinData = {}\n",
    "    start = time.time()\n",
    "    i = 0\n",
    "    while i < 100:\n",
    "        #print(i)\n",
    "        ID = IDs[r.randrange(len(IDs))]\n",
    "        try:\n",
    "            data = getDF(ID)\n",
    "        except:\n",
    "            print('Error in retrieving data')\n",
    "        if data == []:\n",
    "            continue\n",
    "        proteinData[ID] = data\n",
    "        i += 1\n",
    "        if i % 10 == 0:\n",
    "            clear_output(wait=True)\n",
    "            currTime = time.time()-start\n",
    "            print(round((i / 100), 2)*100, '% done')\n",
    "            \n",
    "            print('Time elapsed:',int((currTime/60)/60), 'hours', \n",
    "                  int(currTime/60)%60, 'minutes', int(currTime%60), 'seconds')\n",
    "            \n",
    "            print(i, 'Protiens loaded')\n",
    "            print()\n",
    "    clear_output(wait=True)\n",
    "    currTime = time.time()-start\n",
    "    \n",
    "    print('Total time elapsed:',int((currTime/60)/60), 'hours', \n",
    "          int(currTime/60)%60, 'minutes', int(currTime%60), 'seconds')\n",
    "    \n",
    "    return proteinData"
   ]
  },
  {
   "cell_type": "markdown",
   "metadata": {},
   "source": [
    "<h1>Common Functions</h1>"
   ]
  },
  {
   "cell_type": "code",
   "execution_count": 2,
   "metadata": {},
   "outputs": [],
   "source": [
    "def angleCalc(p1, p2, p3, p4):\n",
    "    \n",
    "    # Equation from http://www.stem2.org/je/proteina.pdf\n",
    "    \n",
    "    # Get coordinates for vectors q1, q2 and q3\n",
    "    q1 = np.subtract(p2,p1) # b - a\n",
    "    q2 = np.subtract(p3,p2) # c - b\n",
    "    q3 = np.subtract(p4,p3) # d - c\n",
    "\n",
    "    # Calculate cross vectors\n",
    "    q1_x_q2 = np.cross(q1,q2)\n",
    "    q2_x_q3 = np.cross(q2,q3)\n",
    "\n",
    "    n1 = q1_x_q2/np.sqrt(np.dot(q1_x_q2,q1_x_q2))\n",
    "    n2 = q2_x_q3/np.sqrt(np.dot(q2_x_q3,q2_x_q3))\n",
    "\n",
    "    # Calculate unit vectors\n",
    "    u1 = n2\n",
    "    u3 = q2/(np.sqrt(np.dot(q2,q2)))\n",
    "    u2 = np.cross(u3,u1)\n",
    "\n",
    "    # Calculate cosine and sine\n",
    "    cos_theta = np.dot(n1,u1)\n",
    "    sin_theta = np.dot(n1,u2)\n",
    "\n",
    "    # Calculate torsion angle\n",
    "    theta = -math.atan2(sin_theta,cos_theta) # it is different from atan2 from fortran\n",
    "    theta_deg = np.degrees(theta)\n",
    "\n",
    "    #Show results\n",
    "    #print(\"theta (rad) = \",theta)\n",
    "    #print(\"theta (deg) = \",theta_deg)\n",
    "\n",
    "    # Return torsion angle in degrees\n",
    "    return theta_deg \n",
    "\n",
    "def torsion(a1, a2, a3):\n",
    "    phi = 0\n",
    "    psi = 0\n",
    "    \n",
    "    #print(a1)\n",
    "    #print(a2)\n",
    "    #print(a3)\n",
    "    \n",
    "    try:\n",
    "        p0 = [float(a1[a1['name']=='C ']['x']), float(a1[a1['name']=='C ']['y']), float(a1[a1['name']=='C ']['z'])]\n",
    "        p1 = [float(a2[a2['name']=='N ']['x']), float(a2[a2['name']=='N ']['y']), float(a2[a2['name']=='N ']['z'])]\n",
    "        p2 = [float(a2[a2['name']=='CA']['x']), float(a2[a2['name']=='CA']['y']), float(a2[a2['name']=='CA']['z'])]\n",
    "        p3 = [float(a2[a2['name']=='C ']['x']), float(a2[a2['name']=='C ']['y']), float(a2[a2['name']=='C ']['z'])]\n",
    "        p4 = [float(a3[a3['name']=='N ']['x']), float(a3[a3['name']=='N ']['y']), float(a3[a3['name']=='N ']['z'])]\n",
    "    except: \n",
    "        print(end='')\n",
    "        #print('Missing data for one of the amino acids')\n",
    "        \n",
    "        #print(p0)\n",
    "        #print(p1)\n",
    "        #print(p2)\n",
    "        #print(p3)\n",
    "        #print(p4)\n",
    "    \n",
    "    #print()\n",
    "    \n",
    "    phi = angleCalc(p0, p1, p2, p3)\n",
    "    psi = angleCalc(p1, p2, p3, p4)\n",
    "    \n",
    "    return {'phi':phi, 'psi':psi}\n",
    "\n",
    "def ramaPlot(points):\n",
    "    \n",
    "    for point in points:\n",
    "        plt.plot(point['psi'], point['phi'])"
   ]
  },
  {
   "cell_type": "markdown",
   "metadata": {},
   "source": [
    "<h1>Question 1</h1>\n",
    "    Find the popularity of different kind of helices: read the data set and analyze it to find the\n",
    "popularity of each type of helices"
   ]
  },
  {
   "cell_type": "code",
   "execution_count": 3,
   "metadata": {},
   "outputs": [],
   "source": [
    "helixPop = {'Right-handed alpha':0, 'Right-handed omega':0, 'Right-handed pi':0 ,\n",
    "            'Right-handed gamma':0, 'Right-handed 3 - 10':0, 'Left-handed alpha':0, \n",
    "            'Left-handed omega':0, 'Left-hended gamma':0, '2 - 7 ribbon/helix':0, 'Polyproline':0}\n",
    "\n",
    "def question1(helixType):\n",
    "    for helix in helixType:\n",
    "        try: \n",
    "            helix = int(helix)\n",
    "        except:\n",
    "            helix = int(helix[0])\n",
    "        if helix == 1:\n",
    "            helixPop['Right-handed alpha'] += 1\n",
    "        elif helix == 2:\n",
    "            helixPop['Right-handed omega'] += 1\n",
    "        elif helix == 3:\n",
    "            helixPop['Right-handed pi'] += 1\n",
    "        elif helix == 4:\n",
    "            helixPop['Right-handed gamma'] += 1\n",
    "        elif helix == 5:\n",
    "            helixPop['Right-handed 3 - 10'] += 1\n",
    "        elif helix == 6:\n",
    "            helixPop['Left-handed alpha'] += 1\n",
    "        elif helix == 7:\n",
    "            helixPop['Left-handed omega'] += 1\n",
    "        elif helix == 8:\n",
    "            helixPop['Left-hended gamma'] += 1\n",
    "        elif helix == 9:\n",
    "            helixPop['2 - 7 ribbon/helix'] += 1\n",
    "        elif helix == 10:\n",
    "            helixPop['Polyproline'] += 1"
   ]
  },
  {
   "cell_type": "markdown",
   "metadata": {},
   "source": [
    "<h1>Question 2</h1>\n",
    "Analyze the amino acids that prefer to form/be part of helices. Does an AA prefer to\n",
    "form/be part of specific type of helices?"
   ]
  },
  {
   "cell_type": "code",
   "execution_count": 4,
   "metadata": {},
   "outputs": [],
   "source": [
    "#def question2():\n",
    "#    \"\"\"Analyze aa\"\"\"\n",
    "#    \n",
    "#    pass\n",
    "#\n",
    "#\n",
    "#for protein in data:\n",
    "#    print(data[protein][1])\n",
    "##print(aminoAcids['ALA'])\n"
   ]
  },
  {
   "cell_type": "markdown",
   "metadata": {},
   "source": [
    "<h1>Question 3</h1>\n",
    "Analyze the length of helices (in terms of number of AAs). Is there any relation between\n",
    "the type of a helix and its length?"
   ]
  },
  {
   "cell_type": "code",
   "execution_count": null,
   "metadata": {},
   "outputs": [],
   "source": []
  },
  {
   "cell_type": "markdown",
   "metadata": {},
   "source": [
    "<h1>Question 4</h1>\n",
    "Analyze the torsion angles in each type of helices. Build something similar to\n",
    "Ramachandran plot but for different types of helices."
   ]
  },
  {
   "cell_type": "code",
   "execution_count": 5,
   "metadata": {},
   "outputs": [],
   "source": [
    "helixTorsion = {'Right-handed alpha':[], 'Right-handed omega':[], 'Right-handed pi':[],\n",
    "            'Right-handed gamma':[], 'Right-handed 3 - 10':[], 'Left-handed alpha':[], \n",
    "            'Left-handed omega':[], 'Left-hended gamma':[], '2 - 7 ribbon/helix':[], 'Polyproline':[]}\n",
    "\n",
    "def question4(helices, atoms):\n",
    "    for index, rowHel in helices.iterrows(): # iterate through the helices in the protein\n",
    "        try: \n",
    "            hType = int(rowHel['type']) # save the type of the current helix \n",
    "        except:\n",
    "            hType = int(rowHel['type'][0]) # save the type of the current helix \n",
    "        \n",
    "        helixAtoms = atoms[np.logical_and(int(rowHel['initSeq']) <= atoms['seqNum'].astype(int)\n",
    "                                          , atoms['seqNum'].astype(int) <= int(rowHel['termSeq']))]\n",
    "        \n",
    "        #print(rowHel['initSeq'], rowHel['termSeq'])\n",
    "        #print(helixAtoms)\n",
    "        \n",
    "        for i in range(int(rowHel['initSeq']), int(rowHel['termSeq'])+1): # iterate through atoms\n",
    "            #print(i)\n",
    "            #print()\n",
    "            \n",
    "            # set up variables for the current amino acid and one before and after\n",
    "\n",
    "            a1 = atoms[atoms['seqNum'].astype(int) == i-1]\n",
    "            a2 = atoms[atoms['seqNum'].astype(int) == i]\n",
    "            a3 = atoms[atoms['seqNum'].astype(int) == i+1]\n",
    "            \n",
    "            #print(a1, a2, a3, end='\\n')\n",
    "            \n",
    "            try:\n",
    "                if hType == 1:\n",
    "                    helixTorsion['Right-handed alpha'].append(torsion(a1, a2, a3))\n",
    "                elif hType == 2:\n",
    "                    helixTorsion['Right-handed omega'].append(torsion(a1, a2, a3))\n",
    "                elif hType == 3:\n",
    "                    helixTorsion['Right-handed pi'].append(torsion(a1, a2, a3))\n",
    "                elif hType == 4:\n",
    "                    helixTorsion['Right-handed gamma'].append(torsion(a1, a2, a3))\n",
    "                elif hType == 5:\n",
    "                    helixTorsion['Right-handed 3 - 10'].append(torsion(a1, a2, a3))\n",
    "                elif hType == 6:\n",
    "                    helixTorsion['Left-handed alpha'].append(torsion(a1, a2, a3))\n",
    "                elif hType == 7:\n",
    "                    helixTorsion['Left-handed omega'].append(torsion(a1, a2, a3))\n",
    "                elif hType == 8:\n",
    "                    helixTorsion['Left-hended gamma'].append(torsion(a1, a2, a3))\n",
    "                elif hType == 9:\n",
    "                    helixTorsion['2 - 7 ribbon/helix'].append(torsion(a1, a2, a3))\n",
    "                elif hType == 10:\n",
    "                    helixTorsion['Polyproline'].append(torsion(a1, a2, a3))\n",
    "            except:\n",
    "                #print('problem analyzing angle')\n",
    "                print(end='')\n",
    "        #print()"
   ]
  },
  {
   "cell_type": "markdown",
   "metadata": {},
   "source": [
    "<h1>Question 5</h1>\n",
    "Analyze the amino acids that prefer to form/be part of beta-sheets. Analyze the number\n",
    "of strands in beta-sheets."
   ]
  },
  {
   "cell_type": "code",
   "execution_count": null,
   "metadata": {},
   "outputs": [],
   "source": []
  },
  {
   "cell_type": "markdown",
   "metadata": {},
   "source": [
    "<h1>Question 6</h1>\n",
    "Build Ramachandran plot for a given AA."
   ]
  },
  {
   "cell_type": "code",
   "execution_count": 6,
   "metadata": {},
   "outputs": [],
   "source": [
    "AATorsion = []\n",
    "\n",
    "def question6(atoms, AA):\n",
    "    for num in atoms[atoms['res']==AA]['seqNum'].astype(int).unique():\n",
    "        a1 = atoms[atoms['seqNum'].astype(int) == num-1]\n",
    "        a2 = atoms[atoms['seqNum'].astype(int) == num]\n",
    "        a3 = atoms[atoms['seqNum'].astype(int) == num+1]\n",
    "        \n",
    "        try:\n",
    "            AATorsion.append(torsion(a1, a2, a3))\n",
    "        except:\n",
    "            print(end='')"
   ]
  },
  {
   "cell_type": "markdown",
   "metadata": {},
   "source": [
    "<h1>Question 7</h1>\n",
    "Analyze the length of bonds and the angle between different type of backbone atoms in\n",
    "general and for individual AAs."
   ]
  },
  {
   "cell_type": "markdown",
   "metadata": {},
   "source": [
    "## Load data"
   ]
  },
  {
   "cell_type": "code",
   "execution_count": 7,
   "metadata": {},
   "outputs": [
    {
     "name": "stdout",
     "output_type": "stream",
     "text": [
      "Total time elapsed: 0 hours 0 minutes 50 seconds\n"
     ]
    }
   ],
   "source": [
    "# load data selected by simple random sampling\n",
    "\n",
    "data = loadDataSRS()"
   ]
  },
  {
   "cell_type": "markdown",
   "metadata": {},
   "source": [
    "<h1>Run questions</h1>"
   ]
  },
  {
   "cell_type": "code",
   "execution_count": 8,
   "metadata": {
    "scrolled": false
   },
   "outputs": [
    {
     "name": "stdout",
     "output_type": "stream",
     "text": [
      "Total Time elapsed: 0 hours 4 minutes 17 seconds\n",
      "Right-handed alpha : 665\n",
      "Right-handed omega : 0\n",
      "Right-handed pi : 0\n",
      "Right-handed gamma : 0\n",
      "Right-handed 3 - 10 : 236\n",
      "Left-handed alpha : 0\n",
      "Left-handed omega : 0\n",
      "Left-hended gamma : 0\n",
      "2 - 7 ribbon/helix : 0\n",
      "Polyproline : 0\n",
      "Right-handed alpha : 8586\n",
      "Right-handed omega : 0\n",
      "Right-handed pi : 0\n",
      "Right-handed gamma : 0\n",
      "Right-handed 3 - 10 : 1092\n",
      "Left-handed alpha : 0\n",
      "Left-handed omega : 0\n",
      "Left-hended gamma : 0\n",
      "2 - 7 ribbon/helix : 0\n",
      "Polyproline : 0\n"
     ]
    }
   ],
   "source": [
    "helixPop = {'Right-handed alpha':0, 'Right-handed omega':0, 'Right-handed pi':0 ,\n",
    "            'Right-handed gamma':0, 'Right-handed 3 - 10':0, 'Left-handed alpha':0, \n",
    "            'Left-handed omega':0, 'Left-hended gamma':0, '2 - 7 ribbon/helix':0, 'Polyproline':0}\n",
    "\n",
    "helixTorsion = {'Right-handed alpha':[], 'Right-handed omega':[], 'Right-handed pi':[],\n",
    "            'Right-handed gamma':[], 'Right-handed 3 - 10':[], 'Left-handed alpha':[], \n",
    "            'Left-handed omega':[], 'Left-hended gamma':[], '2 - 7 ribbon/helix':[], 'Polyproline':[]}\n",
    "\n",
    "\n",
    "# read and analyze the data\n",
    "\n",
    "start = time.time()\n",
    "i = 0\n",
    "for protein in data:\n",
    "    i += 1\n",
    "    try:\n",
    "        question1(data[protein][1]['type'])\n",
    "    except:\n",
    "        print('problem with protein helix', protein)\n",
    "    \n",
    "    #print(protein)\n",
    "    try:\n",
    "        question4(data[protein][1], data[protein][3])\n",
    "    except:\n",
    "        print('problem with protein atom', protein)\n",
    "    AA = 'PRO'\n",
    "    try:\n",
    "        question6(data[protein][3], AA)\n",
    "    except:\n",
    "        print('problem with protein atom', protein)\n",
    "        \n",
    "    if(i% int(len(data)/10) == 0):\n",
    "        currTime = time.time()-start\n",
    "        clear_output(wait=True)\n",
    "        print('Analysis', round((i/len(data)), 2)*100, '% complete')\n",
    "        print('Time elapsed:',int((currTime/60)/60), 'hours', int(currTime/60)%60, 'minutes', int(currTime%60), 'seconds')\n",
    "    currTime = time.time()-start\n",
    "clear_output(wait=True)\n",
    "print('Total Time elapsed:',int((currTime/60)/60), 'hours', int(currTime/60)%60, 'minutes', int(currTime%60), 'seconds')\n",
    "\n",
    "for entry in helixPop:\n",
    "    print(entry, ':', helixPop[entry])\n",
    "for entry in helixTorsion:\n",
    "    print(entry, ':', len(helixTorsion[entry]))"
   ]
  },
  {
   "cell_type": "markdown",
   "metadata": {},
   "source": [
    "<h1>Question 1 Output</h1>"
   ]
  },
  {
   "cell_type": "code",
   "execution_count": 9,
   "metadata": {},
   "outputs": [
    {
     "data": {
      "image/png": "[encoded data removed]",
      "text/plain": [
       "<Figure size 432x288 with 1 Axes>"
      ]
     },
     "metadata": {
      "needs_background": "light"
     },
     "output_type": "display_data"
    }
   ],
   "source": [
    "q1Data = {}\n",
    "for entry in helixPop:\n",
    "    if helixPop[entry] > 0:\n",
    "        q1Data[entry] = helixPop[entry]\n",
    "\n",
    "plt.bar(q1Data.keys(), q1Data.values())\n",
    "plt.xticks(rotation=-45)\n",
    "plt.title('Helix Pop')\n",
    "plt.show()"
   ]
  },
  {
   "cell_type": "markdown",
   "metadata": {},
   "source": [
    "<h1>Question 4 Output</h1>"
   ]
  },
  {
   "cell_type": "code",
   "execution_count": 10,
   "metadata": {},
   "outputs": [
    {
     "data": {
      "image/png": "[encoded data removed]",
      "text/plain": [
       "<Figure size 432x288 with 1 Axes>"
      ]
     },
     "metadata": {
      "needs_background": "light"
     },
     "output_type": "display_data"
    },
    {
     "data": {
      "image/png": "[encoded data removed]",
      "text/plain": [
       "<Figure size 432x288 with 1 Axes>"
      ]
     },
     "metadata": {
      "needs_background": "light"
     },
     "output_type": "display_data"
    }
   ],
   "source": [
    "count = 0\n",
    "for entry in helixTorsion:\n",
    "    if len(helixTorsion[entry]) > 0:\n",
    "        count += 1\n",
    "        plt.xlim(-180, 180)\n",
    "        plt.ylim(-180, 180)\n",
    "        plt.grid(True, 'major')\n",
    "        plt.title(entry)\n",
    "        plt.xlabel('psi (degrees)')\n",
    "        plt.ylabel('phi (degrees)')\n",
    "        for point in helixTorsion[entry]:\n",
    "            plt.scatter(point['psi'], point['phi'], s=1, c='b')\n",
    "        plt.show()"
   ]
  },
  {
   "cell_type": "markdown",
   "metadata": {},
   "source": [
    "<h1>Question 6 Output</h1>"
   ]
  },
  {
   "cell_type": "code",
   "execution_count": 11,
   "metadata": {},
   "outputs": [
    {
     "data": {
      "image/png": "[encoded data removed]",
      "text/plain": [
       "<Figure size 432x288 with 1 Axes>"
      ]
     },
     "metadata": {
      "needs_background": "light"
     },
     "output_type": "display_data"
    }
   ],
   "source": [
    "plt.xlim(-180, 180)\n",
    "plt.ylim(-180, 180)\n",
    "plt.grid(True, 'major')\n",
    "plt.title(AA+' Angles')\n",
    "plt.xlabel('psi (degrees)')\n",
    "plt.ylabel('phi (degrees)')\n",
    "for point in AATorsion:\n",
    "    plt.scatter(point['psi'], point['phi'], s=1, c='b')\n",
    "plt.show()"
   ]
  }
 ],
 "metadata": {
  "kernelspec": {
   "display_name": "Python 3",
   "language": "python",
   "name": "python3"
  },
  "language_info": {
   "codemirror_mode": {
    "name": "ipython",
    "version": 3
   },
   "file_extension": ".py",
   "mimetype": "text/x-python",
   "name": "python",
   "nbconvert_exporter": "python",
   "pygments_lexer": "ipython3",
   "version": "3.6.8"
  }
 },
 "nbformat": 4,
 "nbformat_minor": 2
}
